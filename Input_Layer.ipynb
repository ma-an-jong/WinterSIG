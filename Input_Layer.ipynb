{
 "cells": [
  {
   "cell_type": "markdown",
   "id": "6a908eb3",
   "metadata": {},
   "source": [
    "<h2> Input Embedding"
   ]
  },
  {
   "cell_type": "code",
   "execution_count": 28,
   "id": "20dd9049",
   "metadata": {},
   "outputs": [],
   "source": [
    "import re\n",
    "import urllib.request\n",
    "import zipfile\n",
    "from lxml import etree\n",
    "from nltk.tokenize import word_tokenize, sent_tokenize"
   ]
  },
  {
   "cell_type": "code",
   "execution_count": 29,
   "id": "4f37c596",
   "metadata": {},
   "outputs": [
    {
     "data": {
      "text/plain": [
       "('ted_en-20160408.xml', <http.client.HTTPMessage at 0x221860a8b50>)"
      ]
     },
     "execution_count": 29,
     "metadata": {},
     "output_type": "execute_result"
    }
   ],
   "source": [
    "urllib.request.urlretrieve(\"https://raw.githubusercontent.com/ukairia777/tensorflow-nlp-tutorial/main/09.%20Word%20Embedding/dataset/ted_en-20160408.xml\",\n",
    "                           filename=\"ted_en-20160408.xml\")"
   ]
  },
  {
   "cell_type": "code",
   "execution_count": 30,
   "id": "3846e241",
   "metadata": {},
   "outputs": [],
   "source": [
    "targetXML = open('ted_en-20160408.xml', 'r', encoding='UTF8')\n",
    "target_text = etree.parse(targetXML)\n",
    "\n",
    "# xml 파일로부터 <content>와 </content> 사이의 내용만 가져온다.\n",
    "parse_text = '\\n'.join(target_text.xpath('//content/text()'))\n",
    "\n",
    "# 정규 표현식의 sub 모듈을 통해 content 중간에 등장하는 (Audio), (Laughter) 등의 배경음 부분을 제거.\n",
    "# 해당 코드는 괄호로 구성된 내용을 제거.\n",
    "content_text = re.sub(r'\\([^)]*\\)', '', parse_text)\n",
    "\n",
    "# 입력 코퍼스에 대해서 NLTK를 이용하여 문장 토큰화를 수행.\n",
    "sent_text = sent_tokenize(content_text)\n",
    "\n",
    "# 각 문장에 대해서 구두점을 제거하고, 대문자를 소문자로 변환.\n",
    "normalized_text = []\n",
    "for string in sent_text:\n",
    "     tokens = re.sub(r\"[^a-z0-9]+\", \" \", string.lower())\n",
    "     normalized_text.append(tokens)\n",
    "\n",
    "# 각 문장에 대해서 NLTK를 이용하여 단어 토큰화를 수행.\n",
    "result = [word_tokenize(sentence) for sentence in normalized_text]"
   ]
  },
  {
   "cell_type": "code",
   "execution_count": 31,
   "id": "3c6d2d87",
   "metadata": {},
   "outputs": [
    {
     "name": "stdout",
     "output_type": "stream",
     "text": [
      "총 샘플의 개수 : 273424\n"
     ]
    }
   ],
   "source": [
    "print('총 샘플의 개수 : {}'.format(len(result)))"
   ]
  },
  {
   "cell_type": "code",
   "execution_count": 32,
   "id": "7eb942f7",
   "metadata": {},
   "outputs": [
    {
     "name": "stdout",
     "output_type": "stream",
     "text": [
      "['here', 'are', 'two', 'reasons', 'companies', 'fail', 'they', 'only', 'do', 'more', 'of', 'the', 'same', 'or', 'they', 'only', 'do', 'what', 's', 'new']\n",
      "['to', 'me', 'the', 'real', 'real', 'solution', 'to', 'quality', 'growth', 'is', 'figuring', 'out', 'the', 'balance', 'between', 'two', 'activities', 'exploration', 'and', 'exploitation']\n",
      "['both', 'are', 'necessary', 'but', 'it', 'can', 'be', 'too', 'much', 'of', 'a', 'good', 'thing']\n"
     ]
    }
   ],
   "source": [
    "for line in result[:3]:\n",
    "    print(line)"
   ]
  },
  {
   "cell_type": "code",
   "execution_count": 33,
   "id": "61a85427",
   "metadata": {
    "scrolled": false
   },
   "outputs": [
    {
     "name": "stderr",
     "output_type": "stream",
     "text": [
      "C:\\Users\\DeepLearning_3\\anaconda3\\lib\\site-packages\\gensim\\similarities\\__init__.py:15: UserWarning: The gensim.similarities.levenshtein submodule is disabled, because the optional Levenshtein package <https://pypi.org/project/python-Levenshtein/> is unavailable. Install Levenhstein (e.g. `pip install python-Levenshtein`) to suppress this warning.\n",
      "  warnings.warn(msg)\n"
     ]
    }
   ],
   "source": [
    "from gensim.models import Word2Vec\n",
    "from gensim.models import KeyedVectors\n",
    "\n",
    "import numpy\n",
    "from sklearn.metrics.pairwise import cosine_similarity"
   ]
  },
  {
   "cell_type": "code",
   "execution_count": 34,
   "id": "12ef120e",
   "metadata": {},
   "outputs": [],
   "source": [
    "model = Word2Vec(sentences=result, vector_size=512, window=2,  min_count = 5, workers = 4,sg=1)"
   ]
  },
  {
   "cell_type": "code",
   "execution_count": 35,
   "id": "bd2515a8",
   "metadata": {},
   "outputs": [
    {
     "name": "stdout",
     "output_type": "stream",
     "text": [
      "[('woman', 0.7456675171852112), ('guy', 0.6916314363479614), ('girl', 0.6650304794311523), ('lady', 0.6575959324836731), ('gentleman', 0.654638409614563), ('soldier', 0.6453593969345093), ('boy', 0.6297329664230347), ('cop', 0.611029326915741), ('dancer', 0.6102009415626526), ('rabbi', 0.6100612282752991)]\n"
     ]
    }
   ],
   "source": [
    "model_result = model.wv.most_similar(\"man\")\n",
    "print(model_result)"
   ]
  },
  {
   "cell_type": "code",
   "execution_count": 36,
   "id": "d22b1ec9",
   "metadata": {},
   "outputs": [],
   "source": [
    "query = \"the black cat sat on the couch and the brown dog slept on the rug\""
   ]
  },
  {
   "cell_type": "code",
   "execution_count": 37,
   "id": "0d3502c7",
   "metadata": {},
   "outputs": [],
   "source": [
    "embedding = [ model.wv[word] for word in word_tokenize(query)]"
   ]
  },
  {
   "cell_type": "code",
   "execution_count": 38,
   "id": "ab7aee33",
   "metadata": {},
   "outputs": [],
   "source": [
    "tokens = word_tokenize(query)"
   ]
  },
  {
   "cell_type": "code",
   "execution_count": 39,
   "id": "215434cb",
   "metadata": {
    "scrolled": true
   },
   "outputs": [
    {
     "name": "stdout",
     "output_type": "stream",
     "text": [
      "0.2759055\n",
      "the black\n",
      "0.2796517\n",
      "the sat\n",
      "0.3395251\n",
      "the and\n",
      "0.39774162\n",
      "the rug\n",
      "0.46662903\n",
      "black cat\n",
      "0.53861237\n",
      "black brown\n",
      "0.61383814\n",
      "cat couch\n",
      "0.72466075\n",
      "cat dog\n",
      "0.73215926\n",
      "sat slept\n",
      "0.7610631\n",
      "couch rug\n"
     ]
    }
   ],
   "source": [
    "max = 0\n",
    "for i in range(len(embedding)):\n",
    "    for j in range(len(embedding)):\n",
    "        value = cosine_similarity(numpy.array([embedding[i]]),numpy.array([embedding[j]]))\n",
    "        if value[0][0] > max and tokens[i] != tokens[j]:\n",
    "            max = value[0][0]\n",
    "            print(max)\n",
    "            print(tokens[i],tokens[j])\n",
    "    "
   ]
  },
  {
   "cell_type": "markdown",
   "id": "901d32fb",
   "metadata": {},
   "source": [
    "<h2> Positional Encoding"
   ]
  },
  {
   "cell_type": "code",
   "execution_count": 14,
   "id": "f1de4db4",
   "metadata": {},
   "outputs": [],
   "source": [
    "import numpy\n",
    "import math\n",
    "from sklearn.metrics.pairwise import cosine_similarity"
   ]
  },
  {
   "cell_type": "code",
   "execution_count": 12,
   "id": "6b6d0fb5",
   "metadata": {},
   "outputs": [],
   "source": [
    "def positional_encoding(pos,d_model = 512):\n",
    "    pe = numpy.zeros(d_model)\n",
    "    for i in range(0,d_model,2):\n",
    "        pe[i] = math.sin(pos / (10000**((2*i)/d_model)))\n",
    "        pe[i+1] = math.cos(pos / (10000**((2*i)/d_model)))\n",
    "    return pe"
   ]
  },
  {
   "cell_type": "code",
   "execution_count": 23,
   "id": "fcf055b9",
   "metadata": {},
   "outputs": [],
   "source": [
    "pos2 = numpy.array([positional_encoding(2)])"
   ]
  },
  {
   "cell_type": "code",
   "execution_count": 24,
   "id": "846405fb",
   "metadata": {},
   "outputs": [],
   "source": [
    "pos10 = numpy.array([positional_encoding(10)])"
   ]
  },
  {
   "cell_type": "code",
   "execution_count": 25,
   "id": "e2c3c2d7",
   "metadata": {},
   "outputs": [
    {
     "data": {
      "text/plain": [
       "array([[0.86000133]])"
      ]
     },
     "execution_count": 25,
     "metadata": {},
     "output_type": "execute_result"
    }
   ],
   "source": [
    "cosine_similarity(pos2,pos10)"
   ]
  },
  {
   "cell_type": "code",
   "execution_count": 27,
   "id": "5129961e",
   "metadata": {},
   "outputs": [],
   "source": [
    "def PE(y,pos,d_model = 512):\n",
    "    pe = numpy.zeros(d_model)\n",
    "    for i in range(0,512,2):\n",
    "        pe[i] = math.sin(pos/(10000 ** ((2*i) / d_model)))\n",
    "        pe[i] = (y[pos][i] * math.sqrt(d_model)) + pe[i]\n",
    "\n",
    "        pe[i+1] = math.cos(pos/(10000 ** ((2*i) / d_model)))\n",
    "        pe[i+1] = (y[pos][i+1] * math.sqrt(d_model)) + pe[i+1]\n",
    "        \n",
    "    return pe"
   ]
  },
  {
   "cell_type": "code",
   "execution_count": 47,
   "id": "a2353c7c",
   "metadata": {},
   "outputs": [],
   "source": [
    "black = embedding[2]\n",
    "brown = embedding[10]"
   ]
  },
  {
   "cell_type": "code",
   "execution_count": 41,
   "id": "d18d7a33",
   "metadata": {},
   "outputs": [],
   "source": [
    "pe_black = PE(embedding,2)"
   ]
  },
  {
   "cell_type": "code",
   "execution_count": 42,
   "id": "0fa03416",
   "metadata": {},
   "outputs": [],
   "source": [
    "pe_brown = PE(embedding,10)"
   ]
  },
  {
   "cell_type": "code",
   "execution_count": 49,
   "id": "24971634",
   "metadata": {},
   "outputs": [],
   "source": [
    "word_similarity = cosine_similarity(numpy.array([black]),numpy.array([brown]))"
   ]
  },
  {
   "cell_type": "code",
   "execution_count": 50,
   "id": "d78490c7",
   "metadata": {},
   "outputs": [],
   "source": [
    "positional_similarity = cosine_similarity(pos2,pos10)"
   ]
  },
  {
   "cell_type": "code",
   "execution_count": 51,
   "id": "5e3e8984",
   "metadata": {},
   "outputs": [],
   "source": [
    "final_similarity = cosine_similarity(numpy.array([pe_black]),numpy.array([pe_brown]))"
   ]
  },
  {
   "cell_type": "code",
   "execution_count": 55,
   "id": "9ded77cf",
   "metadata": {},
   "outputs": [
    {
     "name": "stdout",
     "output_type": "stream",
     "text": [
      "word_similarity: [[0.72466075]]\n",
      "positional_similarity: [[0.86000133]]\n",
      "final_similarity: [[0.72887171]]\n"
     ]
    }
   ],
   "source": [
    "print(\"word_similarity: {value}\".format(value=word_similarity) )\n",
    "print(\"positional_similarity: {value}\".format(value=positional_similarity) )\n",
    "print(\"final_similarity: {value}\".format(value=final_similarity) )"
   ]
  }
 ],
 "metadata": {
  "kernelspec": {
   "display_name": "Python 3",
   "language": "python",
   "name": "python3"
  },
  "language_info": {
   "codemirror_mode": {
    "name": "ipython",
    "version": 3
   },
   "file_extension": ".py",
   "mimetype": "text/x-python",
   "name": "python",
   "nbconvert_exporter": "python",
   "pygments_lexer": "ipython3",
   "version": "3.8.8"
  }
 },
 "nbformat": 4,
 "nbformat_minor": 5
}
